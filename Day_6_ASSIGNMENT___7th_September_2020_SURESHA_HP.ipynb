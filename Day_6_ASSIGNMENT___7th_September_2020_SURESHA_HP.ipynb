{
  "nbformat": 4,
  "nbformat_minor": 0,
  "metadata": {
    "colab": {
      "name": "Day 6 ASSIGNMENT | 7th September 2020_SURESHA_HP.ipynb",
      "provenance": [],
      "collapsed_sections": []
    },
    "kernelspec": {
      "name": "python3",
      "display_name": "Python 3"
    }
  },
  "cells": [
    {
      "cell_type": "markdown",
      "metadata": {
        "id": "-dNKE5OKoNOq",
        "colab_type": "text"
      },
      "source": [
        "# Question 1 :\n",
        "Assuming that we have some email addresses in the \"username@companyname.com\" format, please\n",
        "write a program to print the company name of a given email address. Both user names and company\n",
        "names are composed of letters only.\n",
        "Input Format:\n",
        "The first line of the input contains an email address.\n",
        "Output Format:\n",
        "Print the company name in a single line."
      ]
    },
    {
      "cell_type": "code",
      "metadata": {
        "id": "uJLalCAAoDle",
        "colab_type": "code",
        "colab": {
          "base_uri": "https://localhost:8080/",
          "height": 52
        },
        "outputId": "3dc94e1e-5860-4b44-a6ca-5adea389bb7b"
      },
      "source": [
        "email = input('Enter value of email: ')\n",
        "\n",
        "def extract_company(email):\n",
        "    index_of_at = email.find('@')\n",
        "\n",
        "    return email[index_of_at+1:email.rfind('.')]\n",
        "\n",
        "print('The output company name: {}'.format(extract_company(email)))"
      ],
      "execution_count": 8,
      "outputs": [
        {
          "output_type": "stream",
          "text": [
            "Enter value of email: hpsuresh12345@gmail.com\n",
            "The output company name: gmail\n"
          ],
          "name": "stdout"
        }
      ]
    },
    {
      "cell_type": "markdown",
      "metadata": {
        "id": "tPnv3lQVonPh",
        "colab_type": "text"
      },
      "source": [
        "# Question 2 : Write a program that accepts a comma-separated sequence of words as input and prints the words in a comma-separated sequence after sorting them alphabetically.Input Format:The first line of input contains words separated by the comma.Output Format:Print the sorted words separated by the comma.\n"
      ]
    },
    {
      "cell_type": "code",
      "metadata": {
        "id": "_JLYajTLogA1",
        "colab_type": "code",
        "colab": {
          "base_uri": "https://localhost:8080/",
          "height": 52
        },
        "outputId": "9a92e522-c3d7-4f0c-fe4f-711967d293a3"
      },
      "source": [
        "items = input(\"Input comma separated sequence of words: \")\n",
        "words = [word for word in items.split(\",\")]\n",
        "print(\",\".join(sorted(list(set(words)))))\n"
      ],
      "execution_count": 11,
      "outputs": [
        {
          "output_type": "stream",
          "text": [
            "Input comma separated sequence of words: Ramesh,Gopinath,Aravind,Deepika,Mohan,Suresh\n",
            "Aravind,Deepika,Gopinath,Mohan,Ramesh,Suresh\n"
          ],
          "name": "stdout"
        }
      ]
    },
    {
      "cell_type": "markdown",
      "metadata": {
        "id": "kzkChDk3powL",
        "colab_type": "text"
      },
      "source": [
        "# Question 3: Create your own Jupyter Notebook for Sets. Reference link:https://www.w3schools.com/python/python_sets.asp"
      ]
    },
    {
      "cell_type": "code",
      "metadata": {
        "id": "56aVLb_QpDKQ",
        "colab_type": "code",
        "colab": {
          "base_uri": "https://localhost:8080/",
          "height": 34
        },
        "outputId": "bfc61342-11b6-4d65-d5fe-575dd37bf789"
      },
      "source": [
        "# Add \n",
        "thisset = {\"grapes\", \"banana\", \"pineapple\"}\n",
        "\n",
        "thisset.add(\"apple\")\n",
        "\n",
        "print(thisset)"
      ],
      "execution_count": 13,
      "outputs": [
        {
          "output_type": "stream",
          "text": [
            "{'pineapple', 'apple', 'banana', 'grapes'}\n"
          ],
          "name": "stdout"
        }
      ]
    },
    {
      "cell_type": "code",
      "metadata": {
        "id": "lZSWgC-Pq83Y",
        "colab_type": "code",
        "colab": {
          "base_uri": "https://localhost:8080/",
          "height": 34
        },
        "outputId": "14e99309-3cad-47ff-b795-79458fc0aac1"
      },
      "source": [
        "#update\n",
        "thisset = {\"apple\", \"banana\", \"cherry\"}\n",
        "\n",
        "thisset.update([\"orange\", \"mango\", \"grapes\"])\n",
        "\n",
        "print(thisset)"
      ],
      "execution_count": 15,
      "outputs": [
        {
          "output_type": "stream",
          "text": [
            "{'banana', 'cherry', 'orange', 'grapes', 'mango', 'apple'}\n"
          ],
          "name": "stdout"
        }
      ]
    },
    {
      "cell_type": "code",
      "metadata": {
        "id": "jdBsfSFXrOYO",
        "colab_type": "code",
        "colab": {
          "base_uri": "https://localhost:8080/",
          "height": 34
        },
        "outputId": "aaaa0503-a95f-4317-bbcf-f946410804dd"
      },
      "source": [
        "#length\n",
        "thisset = {\"apple\", \"banana\", \"cherry\",\"tomato\",\"onion\"}\n",
        "\n",
        "print(len(thisset))"
      ],
      "execution_count": 17,
      "outputs": [
        {
          "output_type": "stream",
          "text": [
            "5\n"
          ],
          "name": "stdout"
        }
      ]
    },
    {
      "cell_type": "code",
      "metadata": {
        "id": "MAAV9LCWrXCG",
        "colab_type": "code",
        "colab": {
          "base_uri": "https://localhost:8080/",
          "height": 34
        },
        "outputId": "6aef05c2-7ad9-49fc-f2ea-2d874d635ed7"
      },
      "source": [
        "# remove\n",
        "\n",
        "thisset = {\"apple\", \"banana\", \"cherry\"}\n",
        "\n",
        "thisset.remove(\"banana\")\n",
        "\n",
        "print(thisset)"
      ],
      "execution_count": 18,
      "outputs": [
        {
          "output_type": "stream",
          "text": [
            "{'cherry', 'apple'}\n"
          ],
          "name": "stdout"
        }
      ]
    },
    {
      "cell_type": "code",
      "metadata": {
        "id": "C-DhCMALrcZw",
        "colab_type": "code",
        "colab": {
          "base_uri": "https://localhost:8080/",
          "height": 34
        },
        "outputId": "6f258bcb-0ce2-4eba-f81d-984fbe7e0d05"
      },
      "source": [
        "# discard\n",
        "\n",
        "thisset = {\"apple\", \"banana\", \"cherry\"}\n",
        "\n",
        "thisset.discard(\"banana\")\n",
        "\n",
        "print(thisset)"
      ],
      "execution_count": 19,
      "outputs": [
        {
          "output_type": "stream",
          "text": [
            "{'cherry', 'apple'}\n"
          ],
          "name": "stdout"
        }
      ]
    },
    {
      "cell_type": "code",
      "metadata": {
        "id": "xViRHY2zriT5",
        "colab_type": "code",
        "colab": {
          "base_uri": "https://localhost:8080/",
          "height": 52
        },
        "outputId": "3b81c142-6678-4b92-eddb-5802be248f94"
      },
      "source": [
        "# pop\n",
        "\n",
        "thisset = {\"apple\", \"banana\", \"cherry\"}\n",
        "\n",
        "x = thisset.pop()\n",
        "\n",
        "print(x)\n",
        "\n",
        "print(thisset)"
      ],
      "execution_count": 20,
      "outputs": [
        {
          "output_type": "stream",
          "text": [
            "cherry\n",
            "{'apple', 'banana'}\n"
          ],
          "name": "stdout"
        }
      ]
    },
    {
      "cell_type": "code",
      "metadata": {
        "id": "TX4P3GeOrorP",
        "colab_type": "code",
        "colab": {
          "base_uri": "https://localhost:8080/",
          "height": 34
        },
        "outputId": "3c5dd7ea-29fb-4e05-b83c-39a63b5b6bee"
      },
      "source": [
        "# clear\n",
        "thisset = {\"apple\", \"banana\", \"cherry\"}\n",
        "\n",
        "thisset.clear()\n",
        "\n",
        "print(thisset)"
      ],
      "execution_count": 21,
      "outputs": [
        {
          "output_type": "stream",
          "text": [
            "set()\n"
          ],
          "name": "stdout"
        }
      ]
    },
    {
      "cell_type": "code",
      "metadata": {
        "id": "1WGbqUUrrsMu",
        "colab_type": "code",
        "colab": {
          "base_uri": "https://localhost:8080/",
          "height": 205
        },
        "outputId": "ccea417a-7ca7-44bd-d76f-e5150fb1b5d5"
      },
      "source": [
        "#del\n",
        "\n",
        "thisset = {\"apple\", \"banana\", \"cherry\"}\n",
        "\n",
        "del thisset\n",
        "\n",
        "print(thisset)"
      ],
      "execution_count": 22,
      "outputs": [
        {
          "output_type": "error",
          "ename": "NameError",
          "evalue": "ignored",
          "traceback": [
            "\u001b[0;31m---------------------------------------------------------------------------\u001b[0m",
            "\u001b[0;31mNameError\u001b[0m                                 Traceback (most recent call last)",
            "\u001b[0;32m<ipython-input-22-688e15671acd>\u001b[0m in \u001b[0;36m<module>\u001b[0;34m()\u001b[0m\n\u001b[1;32m      5\u001b[0m \u001b[0;32mdel\u001b[0m \u001b[0mthisset\u001b[0m\u001b[0;34m\u001b[0m\u001b[0;34m\u001b[0m\u001b[0m\n\u001b[1;32m      6\u001b[0m \u001b[0;34m\u001b[0m\u001b[0m\n\u001b[0;32m----> 7\u001b[0;31m \u001b[0mprint\u001b[0m\u001b[0;34m(\u001b[0m\u001b[0mthisset\u001b[0m\u001b[0;34m)\u001b[0m\u001b[0;34m\u001b[0m\u001b[0;34m\u001b[0m\u001b[0m\n\u001b[0m",
            "\u001b[0;31mNameError\u001b[0m: name 'thisset' is not defined"
          ]
        }
      ]
    },
    {
      "cell_type": "code",
      "metadata": {
        "id": "sRYw_660r1jX",
        "colab_type": "code",
        "colab": {
          "base_uri": "https://localhost:8080/",
          "height": 34
        },
        "outputId": "f3273b84-50bf-4920-db7b-6716934ac57c"
      },
      "source": [
        "# join 2 sets\n",
        "set1 = {\"a\", \"b\" , \"c\"}\n",
        "set2 = {1, 2, 3}\n",
        "\n",
        "set3 = set1.union(set2)\n",
        "print(set3)\n"
      ],
      "execution_count": 23,
      "outputs": [
        {
          "output_type": "stream",
          "text": [
            "{1, 2, 3, 'b', 'a', 'c'}\n"
          ],
          "name": "stdout"
        }
      ]
    },
    {
      "cell_type": "code",
      "metadata": {
        "id": "LwzIFoB4r7W_",
        "colab_type": "code",
        "colab": {
          "base_uri": "https://localhost:8080/",
          "height": 34
        },
        "outputId": "1ee3d83f-c5b1-4148-ee31-a969db6a5c76"
      },
      "source": [
        "# update 2 sets\n",
        "\n",
        "set1 = {\"a\", \"b\" , \"c\"}\n",
        "set2 = {1, 2, 3}\n",
        "\n",
        "set1.update(set2)\n",
        "print(set1)"
      ],
      "execution_count": 24,
      "outputs": [
        {
          "output_type": "stream",
          "text": [
            "{1, 2, 3, 'b', 'a', 'c'}\n"
          ],
          "name": "stdout"
        }
      ]
    },
    {
      "cell_type": "code",
      "metadata": {
        "id": "29QYjw2XsDdf",
        "colab_type": "code",
        "colab": {
          "base_uri": "https://localhost:8080/",
          "height": 34
        },
        "outputId": "a0cc1734-98bd-4646-d39a-5f36e0e41a21"
      },
      "source": [
        "# set()\n",
        "\n",
        "thisset = set((\"apple\", \"banana\", \"cherry\")) # note the double round-brackets\n",
        "print(thisset)"
      ],
      "execution_count": 25,
      "outputs": [
        {
          "output_type": "stream",
          "text": [
            "{'cherry', 'apple', 'banana'}\n"
          ],
          "name": "stdout"
        }
      ]
    },
    {
      "cell_type": "markdown",
      "metadata": {
        "id": "zoG_KlC3qKN6",
        "colab_type": "text"
      },
      "source": [
        "# Question 4:Question 4:Given a list of n-1 numbers ranging from 1 to n, your task is to find the missing number. There are no duplicates."
      ]
    },
    {
      "cell_type": "code",
      "metadata": {
        "id": "-2iBTF-yajb6",
        "colab_type": "code",
        "colab": {
          "base_uri": "https://localhost:8080/",
          "height": 34
        },
        "outputId": "e076cb1a-d895-4b4c-eaaa-bde1b71772e0"
      },
      "source": [
        "# getMissingNo takes list as argument\n",
        "def find_missing(lst): \n",
        "    start = lst[0] \n",
        "    end = lst[-1] \n",
        "    return sorted(set(range(start, end + 1)).difference(lst)) \n",
        " \n",
        "# Driver code \n",
        "lst = [1, 2, 4, 6, 7, 9, 10] \n",
        "print(find_missing(lst)) "
      ],
      "execution_count": 32,
      "outputs": [
        {
          "output_type": "stream",
          "text": [
            "[3, 5, 8]\n"
          ],
          "name": "stdout"
        }
      ]
    },
    {
      "cell_type": "markdown",
      "metadata": {
        "id": "YVmk-JV1ugKg",
        "colab_type": "text"
      },
      "source": [
        "# Question 5: With a given list L, write a program to print this list L after removing all duplicate values with original order reserved."
      ]
    },
    {
      "cell_type": "code",
      "metadata": {
        "id": "ygy_Ar3Tue_6",
        "colab_type": "code",
        "colab": {
          "base_uri": "https://localhost:8080/",
          "height": 52
        },
        "outputId": "52f84d82-806f-43bd-d206-b2c7d239501a"
      },
      "source": [
        "# initializing list \n",
        "test_list = [1, 3, 5, 6, 3, 5, 6, 1] \n",
        "print (\"The original list is : \" +  str(test_list)) \n",
        "# using list comprehension \n",
        "# to remove duplicated  \n",
        "# from list  \n",
        "res = [] \n",
        "[res.append(x) for x in test_list if x not in res]\n",
        "# printing list after removal  \n",
        "print (\"The list after removing duplicates : \" + str(res))  "
      ],
      "execution_count": 35,
      "outputs": [
        {
          "output_type": "stream",
          "text": [
            "The original list is : [1, 3, 5, 6, 3, 5, 6, 1]\n",
            "The list after removing duplicates : [1, 3, 5, 6]\n"
          ],
          "name": "stdout"
        }
      ]
    },
    {
      "cell_type": "markdown",
      "metadata": {
        "id": "RXBzGW3-ul2h",
        "colab_type": "text"
      },
      "source": [
        "1. Create GITHUB Profile with User id and password\n",
        "2. In the upper-right corner of any page, click , and then click New repository.\n",
        "3.In the Owner drop-down, select the account you wish to create the repository on.\n",
        "4.Type a name for your repository, and an optional description.\n",
        "5.Choose to make the repository either public or private. Public repositories are visible to the public, while private repositories are only accessible to you, and people you share them with. For more information, see \"Setting repository visibility.\"\n",
        "6. When you're finished, click Create repository\n",
        "\n",
        "# Mu github repository - https://github.com/hpsuresh12345/LetsUpgrade-AI-ML"
      ]
    }
  ]
}