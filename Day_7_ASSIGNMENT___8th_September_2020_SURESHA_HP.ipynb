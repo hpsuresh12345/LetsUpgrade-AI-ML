{
  "nbformat": 4,
  "nbformat_minor": 0,
  "metadata": {
    "colab": {
      "name": "Day 7 ASSIGNMENT | 8th September 2020_SURESHA_HP.ipynb",
      "provenance": [],
      "collapsed_sections": [],
      "toc_visible": true
    },
    "kernelspec": {
      "name": "python3",
      "display_name": "Python 3"
    }
  },
  "cells": [
    {
      "cell_type": "markdown",
      "metadata": {
        "id": "-dNKE5OKoNOq",
        "colab_type": "text"
      },
      "source": [
        "# Question 1: Write a program to copy the contents of one file to another using a for loop. (Don’t use built-in copy function)"
      ]
    },
    {
      "cell_type": "code",
      "metadata": {
        "id": "uJLalCAAoDle",
        "colab_type": "code",
        "colab": {}
      },
      "source": [
        "with open(\"test.txt\") as f:\n",
        "    with open(\"out.txt\", \"w\") as f1:\n",
        "        for line in f:\n",
        "            f1.write(line)"
      ],
      "execution_count": 2,
      "outputs": []
    },
    {
      "cell_type": "markdown",
      "metadata": {
        "id": "tPnv3lQVonPh",
        "colab_type": "text"
      },
      "source": [
        "# Question 2: Write a Python program to find maximum and minimum values in the dictionary. Do not use built-in min and max functions."
      ]
    },
    {
      "cell_type": "code",
      "metadata": {
        "id": "_JLYajTLogA1",
        "colab_type": "code",
        "colab": {
          "base_uri": "https://localhost:8080/",
          "height": 51
        },
        "outputId": "7194376a-129a-42d9-ed9d-df49c8462252"
      },
      "source": [
        "AList = [5,8,1,6]\n",
        "\n",
        "sorted_list = sorted(AList)\n",
        "minValue = sorted_list[0]\n",
        "maxValue = sorted_list[-1]\n",
        "\n",
        "print (minValue)\n",
        "print (maxValue)\n"
      ],
      "execution_count": 3,
      "outputs": [
        {
          "output_type": "stream",
          "text": [
            "1\n",
            "8\n"
          ],
          "name": "stdout"
        }
      ]
    },
    {
      "cell_type": "markdown",
      "metadata": {
        "id": "RXBzGW3-ul2h",
        "colab_type": "text"
      },
      "source": [
        "1. Create GITHUB Profile with User id and password\n",
        "2. In the upper-right corner of any page, click , and then click New repository.\n",
        "3.In the Owner drop-down, select the account you wish to create the repository on.\n",
        "4.Type a name for your repository, and an optional description.\n",
        "5.Choose to make the repository either public or private. Public repositories are visible to the public, while private repositories are only accessible to you, and people you share them with. For more information, see \"Setting repository visibility.\"\n",
        "6. When you're finished, click Create repository\n",
        "\n",
        "# Mu github repository - https://github.com/hpsuresh12345/LetsUpgrade-AI-ML"
      ]
    }
  ]
}