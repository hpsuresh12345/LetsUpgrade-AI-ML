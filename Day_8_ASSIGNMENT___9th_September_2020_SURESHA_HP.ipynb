{
  "nbformat": 4,
  "nbformat_minor": 0,
  "metadata": {
    "colab": {
      "name": "Day 8 ASSIGNMENT | 9th September 2020_SURESHA_HP.ipynb",
      "provenance": [],
      "collapsed_sections": []
    },
    "kernelspec": {
      "name": "python3",
      "display_name": "Python 3"
    }
  },
  "cells": [
    {
      "cell_type": "markdown",
      "metadata": {
        "id": "-dNKE5OKoNOq",
        "colab_type": "text"
      },
      "source": [
        "# Question 1: Recreate “NB 21 map, filter, lambda.ipynb” to try different variations or perform different calculations from the ones that are in the NB"
      ]
    },
    {
      "cell_type": "code",
      "metadata": {
        "id": "uJLalCAAoDle",
        "colab_type": "code",
        "colab": {
          "base_uri": "https://localhost:8080/",
          "height": 34
        },
        "outputId": "70fe5a95-e8eb-4a4c-e062-4e97e227579a"
      },
      "source": [
        "sqrList = map(lambda x: x*x, [1, 2, 3, 4])\n",
        "next(sqrList)\n",
        "next(sqrList)\n",
        "\n"
      ],
      "execution_count": 3,
      "outputs": [
        {
          "output_type": "execute_result",
          "data": {
            "text/plain": [
              "4"
            ]
          },
          "metadata": {
            "tags": []
          },
          "execution_count": 3
        }
      ]
    },
    {
      "cell_type": "code",
      "metadata": {
        "id": "6j0Dm4Bsl-oT",
        "colab_type": "code",
        "colab": {
          "base_uri": "https://localhost:8080/",
          "height": 51
        },
        "outputId": "52671d82-4236-4b91-9921-b10eee0bfac3"
      },
      "source": [
        "# map() with string\n",
        "\n",
        "def to_upper_case(s):\n",
        "    return str(s).upper()\n",
        "\n",
        "def print_iterator(it):\n",
        "    for x in it:\n",
        "        print(x, end=' ')\n",
        "    print('')  # for new line\n",
        "\n",
        "map_iterator = map(to_upper_case, 'abc')\n",
        "print(type(map_iterator))\n",
        "print_iterator(map_iterator)"
      ],
      "execution_count": 6,
      "outputs": [
        {
          "output_type": "stream",
          "text": [
            "<class 'map'>\n",
            "A B C \n"
          ],
          "name": "stdout"
        }
      ]
    },
    {
      "cell_type": "code",
      "metadata": {
        "id": "kD5lxWqbmTmS",
        "colab_type": "code",
        "colab": {
          "base_uri": "https://localhost:8080/",
          "height": 34
        },
        "outputId": "fd363067-5e94-4ca3-ea89-9b9a25e8748d"
      },
      "source": [
        "# map() with tuple\n",
        "map_iterator = map(to_upper_case, (1, 'a', 'abc'))\n",
        "print_iterator(map_iterator)"
      ],
      "execution_count": 7,
      "outputs": [
        {
          "output_type": "stream",
          "text": [
            "1 A ABC \n"
          ],
          "name": "stdout"
        }
      ]
    },
    {
      "cell_type": "code",
      "metadata": {
        "id": "W5p4oCxhmXmC",
        "colab_type": "code",
        "colab": {
          "base_uri": "https://localhost:8080/",
          "height": 34
        },
        "outputId": "c65c18a8-d4d4-416e-b7c2-9cb1444b3ae1"
      },
      "source": [
        "map_iterator = map(to_upper_case, ['x', 'a', 'abc'])\n",
        "print_iterator(map_iterator)"
      ],
      "execution_count": 8,
      "outputs": [
        {
          "output_type": "stream",
          "text": [
            "X A ABC \n"
          ],
          "name": "stdout"
        }
      ]
    },
    {
      "cell_type": "code",
      "metadata": {
        "id": "xHT_mwwhmbbS",
        "colab_type": "code",
        "colab": {
          "base_uri": "https://localhost:8080/",
          "height": 68
        },
        "outputId": "bb21fb88-9220-4f2a-e5c8-dabc4777899c"
      },
      "source": [
        "map_iterator = map(to_upper_case, ['a', 'b', 'c'])\n",
        "my_list = list(map_iterator)\n",
        "print(my_list)\n",
        "\n",
        "map_iterator = map(to_upper_case, ['a', 'b', 'c'])\n",
        "my_set = set(map_iterator)\n",
        "print(my_set)\n",
        "\n",
        "map_iterator = map(to_upper_case, ['a', 'b', 'c'])\n",
        "my_tuple = tuple(map_iterator)\n",
        "print(my_tuple)"
      ],
      "execution_count": 9,
      "outputs": [
        {
          "output_type": "stream",
          "text": [
            "['A', 'B', 'C']\n",
            "{'B', 'C', 'A'}\n",
            "('A', 'B', 'C')\n"
          ],
          "name": "stdout"
        }
      ]
    },
    {
      "cell_type": "code",
      "metadata": {
        "id": "PT1mWE8TnFIS",
        "colab_type": "code",
        "colab": {
          "base_uri": "https://localhost:8080/",
          "height": 34
        },
        "outputId": "47e8ac92-48d4-435f-f1f9-cd40dc2d5c15"
      },
      "source": [
        "list_numbers = [1, 2, 3, 4]\n",
        "\n",
        "map_iterator = map(lambda x: x * 2, list_numbers)\n",
        "print_iterator(map_iterator)"
      ],
      "execution_count": 10,
      "outputs": [
        {
          "output_type": "stream",
          "text": [
            "2 4 6 8 \n"
          ],
          "name": "stdout"
        }
      ]
    },
    {
      "cell_type": "code",
      "metadata": {
        "id": "SWn1MGQMnIf6",
        "colab_type": "code",
        "colab": {
          "base_uri": "https://localhost:8080/",
          "height": 34
        },
        "outputId": "0eccbe69-97fe-4c4c-8e49-679dff2e7616"
      },
      "source": [
        "# map() with multiple iterable arguments\n",
        "list_numbers = [1, 2, 3, 4]\n",
        "tuple_numbers = (5, 6, 7, 8)\n",
        "map_iterator = map(lambda x, y: x * y, list_numbers, tuple_numbers)\n",
        "print_iterator(map_iterator)"
      ],
      "execution_count": 11,
      "outputs": [
        {
          "output_type": "stream",
          "text": [
            "5 12 21 32 \n"
          ],
          "name": "stdout"
        }
      ]
    },
    {
      "cell_type": "code",
      "metadata": {
        "id": "zqZXqZ5doIqZ",
        "colab_type": "code",
        "colab": {
          "base_uri": "https://localhost:8080/",
          "height": 34
        },
        "outputId": "7aa97b90-8c4a-4288-acbe-5d6b88ce2a47"
      },
      "source": [
        "# List of strings \n",
        "l = ['sat', 'bat', 'cat', 'mat'] \n",
        "  \n",
        "# map() can listify the list of strings individually \n",
        "test = list(map(list, l)) \n",
        "print(test) "
      ],
      "execution_count": 12,
      "outputs": [
        {
          "output_type": "stream",
          "text": [
            "[['s', 'a', 't'], ['b', 'a', 't'], ['c', 'a', 't'], ['m', 'a', 't']]\n"
          ],
          "name": "stdout"
        }
      ]
    },
    {
      "cell_type": "code",
      "metadata": {
        "id": "lBZnFQxFoNM6",
        "colab_type": "code",
        "colab": {
          "base_uri": "https://localhost:8080/",
          "height": 34
        },
        "outputId": "9f9685ac-93fd-4b0d-d494-d573341169c1"
      },
      "source": [
        "# Double all numbers using map and lambda \n",
        "  \n",
        "numbers = (1, 2, 3, 4) \n",
        "result = map(lambda x: x + x, numbers) \n",
        "print(list(result)) "
      ],
      "execution_count": 13,
      "outputs": [
        {
          "output_type": "stream",
          "text": [
            "[2, 4, 6, 8]\n"
          ],
          "name": "stdout"
        }
      ]
    },
    {
      "cell_type": "code",
      "metadata": {
        "id": "m_aSJzJ7qnuJ",
        "colab_type": "code",
        "colab": {
          "base_uri": "https://localhost:8080/",
          "height": 34
        },
        "outputId": "455ac57c-20b2-45b8-a616-34bf4e5fcb9c"
      },
      "source": [
        "\n",
        "# without lambda\n",
        "def sqr(a):\n",
        "    return a*a\n",
        "\n",
        "sqr(3)"
      ],
      "execution_count": 14,
      "outputs": [
        {
          "output_type": "execute_result",
          "data": {
            "text/plain": [
              "9"
            ]
          },
          "metadata": {
            "tags": []
          },
          "execution_count": 14
        }
      ]
    },
    {
      "cell_type": "code",
      "metadata": {
        "id": "I2fWcCHrqrGK",
        "colab_type": "code",
        "colab": {
          "base_uri": "https://localhost:8080/",
          "height": 34
        },
        "outputId": "bc5ad96e-ab99-4b52-caa7-4725189a847e"
      },
      "source": [
        "\n",
        "# with lambda\n",
        "x = lambda a: a*a\n",
        "x(3)"
      ],
      "execution_count": 15,
      "outputs": [
        {
          "output_type": "execute_result",
          "data": {
            "text/plain": [
              "9"
            ]
          },
          "metadata": {
            "tags": []
          },
          "execution_count": 15
        }
      ]
    },
    {
      "cell_type": "code",
      "metadata": {
        "id": "FIr6lZ8HqyIa",
        "colab_type": "code",
        "colab": {
          "base_uri": "https://localhost:8080/",
          "height": 51
        },
        "outputId": "364fdf7a-4b0e-4155-8576-fad179a7e637"
      },
      "source": [
        "# lambda within user defined functions\n",
        "def abc(x):\n",
        "    return lambda y: x+y\n",
        "t = abc(4)\n",
        "print(t)\n",
        "print(t(5))"
      ],
      "execution_count": 16,
      "outputs": [
        {
          "output_type": "stream",
          "text": [
            "<function abc.<locals>.<lambda> at 0x7f57f6eca8c8>\n",
            "9\n"
          ],
          "name": "stdout"
        }
      ]
    },
    {
      "cell_type": "code",
      "metadata": {
        "id": "hG0W7lqjq3Er",
        "colab_type": "code",
        "colab": {
          "base_uri": "https://localhost:8080/",
          "height": 34
        },
        "outputId": "1553a697-4fa2-461c-f030-58d20bc4860f"
      },
      "source": [
        "def mno():\n",
        "    print(\"Hi from Suresh\")\n",
        "mno()"
      ],
      "execution_count": 17,
      "outputs": [
        {
          "output_type": "stream",
          "text": [
            "Hi from Suresh\n"
          ],
          "name": "stdout"
        }
      ]
    },
    {
      "cell_type": "code",
      "metadata": {
        "id": "Av24wgDwq9F7",
        "colab_type": "code",
        "colab": {
          "base_uri": "https://localhost:8080/",
          "height": 34
        },
        "outputId": "6c3720f5-6aaa-467a-bd52-9c0612aef176"
      },
      "source": [
        "# Solving Algebraic expressions using lambda\n",
        "# LINEAR EQUATIONS\n",
        "# Snippet 1:\n",
        "x = lambda a: a*a\n",
        "x(3)"
      ],
      "execution_count": 18,
      "outputs": [
        {
          "output_type": "execute_result",
          "data": {
            "text/plain": [
              "9"
            ]
          },
          "metadata": {
            "tags": []
          },
          "execution_count": 18
        }
      ]
    },
    {
      "cell_type": "code",
      "metadata": {
        "id": "yrCST729rA-K",
        "colab_type": "code",
        "colab": {
          "base_uri": "https://localhost:8080/",
          "height": 34
        },
        "outputId": "b5df144c-5d03-4258-8edb-66a2db75ff73"
      },
      "source": [
        "# Solving Algebraic expressions using lambda\n",
        "# LINEAR EQUATIONS\n",
        "# Snippet 2: 5x+3y\n",
        "z = lambda x,y: 8*x+4*y\n",
        "z(1,2)"
      ],
      "execution_count": 21,
      "outputs": [
        {
          "output_type": "execute_result",
          "data": {
            "text/plain": [
              "16"
            ]
          },
          "metadata": {
            "tags": []
          },
          "execution_count": 21
        }
      ]
    },
    {
      "cell_type": "code",
      "metadata": {
        "id": "asyyMNjvrEQy",
        "colab_type": "code",
        "colab": {
          "base_uri": "https://localhost:8080/",
          "height": 34
        },
        "outputId": "deff6952-dff1-4938-baec-1cedc71955fa"
      },
      "source": [
        "# Solving Algebraic expressions using lambda\n",
        "# QUADRATIC EQUATIONS\n",
        "# Snippet 1: (a+b)^2\n",
        "z = lambda x,y: (x+y)**2\n",
        "print(z(2,3))"
      ],
      "execution_count": 22,
      "outputs": [
        {
          "output_type": "stream",
          "text": [
            "25\n"
          ],
          "name": "stdout"
        }
      ]
    },
    {
      "cell_type": "code",
      "metadata": {
        "id": "0H7ztiD8rMkq",
        "colab_type": "code",
        "colab": {
          "base_uri": "https://localhost:8080/",
          "height": 34
        },
        "outputId": "eed225a6-b3a9-4a9a-f50e-b12fcbaa6be6"
      },
      "source": [
        "# Use lambda functions along with map function\n",
        "l = [1,2,3,4]\n",
        "x = map(lambda x: x+3,l)\n",
        "print(list(x))"
      ],
      "execution_count": 23,
      "outputs": [
        {
          "output_type": "stream",
          "text": [
            "[4, 5, 6, 7]\n"
          ],
          "name": "stdout"
        }
      ]
    },
    {
      "cell_type": "code",
      "metadata": {
        "id": "wVqr5kSRrPy6",
        "colab_type": "code",
        "colab": {
          "base_uri": "https://localhost:8080/",
          "height": 34
        },
        "outputId": "c34e4f0e-0cf9-4991-8c1a-f3a2409a0152"
      },
      "source": [
        "# Lets further shorten the above code\n",
        "l = [1,2,3,4]\n",
        "x = list(map(lambda x: x+2,l))\n",
        "print(x)"
      ],
      "execution_count": 24,
      "outputs": [
        {
          "output_type": "stream",
          "text": [
            "[3, 4, 5, 6]\n"
          ],
          "name": "stdout"
        }
      ]
    },
    {
      "cell_type": "code",
      "metadata": {
        "id": "rUPK33pSrTOC",
        "colab_type": "code",
        "colab": {
          "base_uri": "https://localhost:8080/",
          "height": 68
        },
        "outputId": "ebf24377-80ec-47e7-9e86-4ea21d3710f4"
      },
      "source": [
        "\n",
        "# filter(function, iterables)\n",
        "def sqr(a):\n",
        "    if a>=3:\n",
        "        return a\n",
        "# your code goes here1.2\n",
        "x = filter( sqr, [1,2,3,4,5] )\n",
        "print(x)\n",
        "print(type(x))\n",
        "print(list(x))"
      ],
      "execution_count": 25,
      "outputs": [
        {
          "output_type": "stream",
          "text": [
            "<filter object at 0x7f57f6ee2358>\n",
            "<class 'filter'>\n",
            "[3, 4, 5]\n"
          ],
          "name": "stdout"
        }
      ]
    },
    {
      "cell_type": "code",
      "metadata": {
        "id": "Ehp1o6Y2rV6x",
        "colab_type": "code",
        "colab": {
          "base_uri": "https://localhost:8080/",
          "height": 34
        },
        "outputId": "3caae194-5c6a-4c6b-b691-3dee9c2ef43e"
      },
      "source": [
        "l = [1,2,3,4]\n",
        "# your code goes here1.3\n",
        "x = filter( lambda x: x>=3 ,l )\n",
        "print(list(x))"
      ],
      "execution_count": 26,
      "outputs": [
        {
          "output_type": "stream",
          "text": [
            "[3, 4]\n"
          ],
          "name": "stdout"
        }
      ]
    },
    {
      "cell_type": "code",
      "metadata": {
        "id": "7mYtg24ZrZfq",
        "colab_type": "code",
        "colab": {
          "base_uri": "https://localhost:8080/",
          "height": 34
        },
        "outputId": "0f8ad733-0915-46da-d3fe-ee64a587eb74"
      },
      "source": [
        "l = [1,2,3,4]\n",
        "print(list(filter( lambda x: x>=3 ,l )))"
      ],
      "execution_count": 27,
      "outputs": [
        {
          "output_type": "stream",
          "text": [
            "[3, 4]\n"
          ],
          "name": "stdout"
        }
      ]
    },
    {
      "cell_type": "code",
      "metadata": {
        "id": "1P7CoSfltU76",
        "colab_type": "code",
        "colab": {
          "base_uri": "https://localhost:8080/",
          "height": 51
        },
        "outputId": "c41a3cd9-58ee-41f2-f1a9-64b9002f164c"
      },
      "source": [
        "\n",
        "# map within filter\n",
        "x = filter(lambda x: x>4,  map(lambda x: x+3., [1,2,3,4]))\n",
        "# try this\n",
        "# x = filter(lambda x: x>=3,  map(lambda x: x+3., [1,2,3,4]))\n",
        "print(x)\n",
        "print(list(x))\n",
        "# print(tuple(x))"
      ],
      "execution_count": 28,
      "outputs": [
        {
          "output_type": "stream",
          "text": [
            "<filter object at 0x7f57f6ed5eb8>\n",
            "[5.0, 6.0, 7.0]\n"
          ],
          "name": "stdout"
        }
      ]
    },
    {
      "cell_type": "markdown",
      "metadata": {
        "id": "tPnv3lQVonPh",
        "colab_type": "text"
      },
      "source": [
        "# Question 2 : Recreate your own Python NB for “Classes and Objects” from the pdf provided namely “Classes&Objects.pdf”"
      ]
    },
    {
      "cell_type": "code",
      "metadata": {
        "id": "qt-pbFJNq8rS",
        "colab_type": "code",
        "colab": {
          "base_uri": "https://localhost:8080/",
          "height": 51
        },
        "outputId": "9261fda8-a4d2-452f-b5bd-6e485e4eb2b5"
      },
      "source": [
        "\n",
        "class abc:\n",
        "    def show(self):\n",
        "        print(\"Hello Suresha HP.\")\n",
        "\n",
        "s = abc()\n",
        "s.show()\n",
        "t = abc()\n",
        "t.show()"
      ],
      "execution_count": 31,
      "outputs": [
        {
          "output_type": "stream",
          "text": [
            "Hello Suresha HP.\n",
            "Hello Suresha HP.\n"
          ],
          "name": "stdout"
        }
      ]
    },
    {
      "cell_type": "code",
      "metadata": {
        "id": "fzzDV-Syt7bn",
        "colab_type": "code",
        "colab": {
          "base_uri": "https://localhost:8080/",
          "height": 51
        },
        "outputId": "f6dbd6ed-b6ee-4ade-f359-8a878b53f920"
      },
      "source": [
        "\n",
        "# Program to use private variables\n",
        "class abc:\n",
        "    y=5\n",
        "    __v=4 # private var\n",
        "    def show(self):\n",
        "        print(\"Hello from Suresha\")\n",
        "        \n",
        "\n",
        "s = abc()\n",
        "print(s.y)\n",
        "s.show()\n",
        "# print(s.__v) # gives error"
      ],
      "execution_count": 33,
      "outputs": [
        {
          "output_type": "stream",
          "text": [
            "5\n",
            "Hello from Suresha\n"
          ],
          "name": "stdout"
        }
      ]
    },
    {
      "cell_type": "code",
      "metadata": {
        "id": "8J6XgIihuaui",
        "colab_type": "code",
        "colab": {
          "base_uri": "https://localhost:8080/",
          "height": 102
        },
        "outputId": "1af4bfc5-6338-4a65-d670-e54377ad5cc0"
      },
      "source": [
        "class xyz:\n",
        "    def __init__(self):\n",
        "        print(\"I am Programmer.\")\n",
        "        print(\"I am healthy\")\n",
        "        print(\"Lets go ahead.\")\n",
        "    def show(self):\n",
        "        print(\"You are in class.\")\n",
        "        print(\"Bye from here.\")\n",
        "s = xyz()\n",
        "\n",
        "s.show()"
      ],
      "execution_count": 34,
      "outputs": [
        {
          "output_type": "stream",
          "text": [
            "I am Programmer.\n",
            "I am healthy\n",
            "Lets go ahead.\n",
            "You are in class.\n",
            "Bye from here.\n"
          ],
          "name": "stdout"
        }
      ]
    },
    {
      "cell_type": "code",
      "metadata": {
        "id": "9-nW0MEdukk7",
        "colab_type": "code",
        "colab": {
          "base_uri": "https://localhost:8080/",
          "height": 68
        },
        "outputId": "5f7f3eea-c530-408e-96dc-96f35c2f30c8"
      },
      "source": [
        "class xyz:\n",
        "    def __init__(self,n):\n",
        "        self.n1=n+1\n",
        "        print(n)\n",
        "        print(self.n1)\n",
        "        print(self.n1*n)\n",
        "s = xyz(6)"
      ],
      "execution_count": 36,
      "outputs": [
        {
          "output_type": "stream",
          "text": [
            "6\n",
            "7\n",
            "42\n"
          ],
          "name": "stdout"
        }
      ]
    },
    {
      "cell_type": "code",
      "metadata": {
        "id": "SmvAjak9uoyy",
        "colab_type": "code",
        "colab": {
          "base_uri": "https://localhost:8080/",
          "height": 51
        },
        "outputId": "399f6e79-d884-4bc3-ca0f-2187e8f3f7a7"
      },
      "source": [
        "class xyz:\n",
        "    def __init__(self,n):\n",
        "        self.n=n+1\n",
        "        print(n)\n",
        "        print(self.n)\n",
        "        \n",
        "s=xyz(6)"
      ],
      "execution_count": 37,
      "outputs": [
        {
          "output_type": "stream",
          "text": [
            "6\n",
            "7\n"
          ],
          "name": "stdout"
        }
      ]
    },
    {
      "cell_type": "code",
      "metadata": {
        "id": "bAR4R7LVusIq",
        "colab_type": "code",
        "colab": {
          "base_uri": "https://localhost:8080/",
          "height": 85
        },
        "outputId": "1bde9fd7-5083-4181-f650-6be7f5bc0ee3"
      },
      "source": [
        "# Program to use instances as return values\n",
        "class st:\n",
        "    def add(self,a,b):\n",
        "        a1=a\n",
        "        b1=b\n",
        "        print(a1,b1)\n",
        "        print(a,b)\n",
        "        a=120\n",
        "        b=75\n",
        "        print(a1,b1)\n",
        "        print(a,b)\n",
        "\n",
        "s=st()\n",
        "s.add(4,3)"
      ],
      "execution_count": 38,
      "outputs": [
        {
          "output_type": "stream",
          "text": [
            "4 3\n",
            "4 3\n",
            "4 3\n",
            "120 75\n"
          ],
          "name": "stdout"
        }
      ]
    },
    {
      "cell_type": "code",
      "metadata": {
        "id": "2yatgPnCu34Z",
        "colab_type": "code",
        "colab": {
          "base_uri": "https://localhost:8080/",
          "height": 119
        },
        "outputId": "ecbab405-1d1c-4e18-de18-3533bb01c49c"
      },
      "source": [
        "# Program to use instances as return values\n",
        "class st:\n",
        "    def add(self,a,b):\n",
        "        self.a=a\n",
        "        self.b=b\n",
        "        print(self.a,self.b)\n",
        "        print(a,b)\n",
        "        a=99\n",
        "        b=88\n",
        "        print(self.a,self.b)\n",
        "        print(a,b)\n",
        "        self.a=555\n",
        "        self.b=666\n",
        "        print(self.a,self.b)\n",
        "        print(a,b)\n",
        "\n",
        "s=st()\n",
        "s.add(4,3)\n",
        "\n"
      ],
      "execution_count": 39,
      "outputs": [
        {
          "output_type": "stream",
          "text": [
            "4 3\n",
            "4 3\n",
            "4 3\n",
            "99 88\n",
            "555 666\n",
            "99 88\n"
          ],
          "name": "stdout"
        }
      ]
    },
    {
      "cell_type": "code",
      "metadata": {
        "id": "J8DvKJdhvX0y",
        "colab_type": "code",
        "colab": {
          "base_uri": "https://localhost:8080/",
          "height": 119
        },
        "outputId": "0eff53fd-ae58-4426-cecf-5def674e46b0"
      },
      "source": [
        "# Program to use instances as return values\n",
        "class st:\n",
        "    def add(self,a,b):\n",
        "        self.a=a\n",
        "        self.b=b\n",
        "        print(self.a,self.b)\n",
        "        print(a,b)\n",
        "        a=99\n",
        "        b=88\n",
        "        print(self.a,self.b)\n",
        "        print(a,b)\n",
        "        self.a=555\n",
        "        self.b=666\n",
        "        print(self.a,self.b)\n",
        "        print(a,b)\n",
        "\n",
        "s=st()\n",
        "s.add(4,3)"
      ],
      "execution_count": 40,
      "outputs": [
        {
          "output_type": "stream",
          "text": [
            "4 3\n",
            "4 3\n",
            "4 3\n",
            "99 88\n",
            "555 666\n",
            "99 88\n"
          ],
          "name": "stdout"
        }
      ]
    },
    {
      "cell_type": "code",
      "metadata": {
        "id": "WxnD90WKvcfM",
        "colab_type": "code",
        "colab": {
          "base_uri": "https://localhost:8080/",
          "height": 51
        },
        "outputId": "10b220d9-002d-4ba9-ba97-d58d2c4ebfe5"
      },
      "source": [
        "# Program to delete object of a class.\n",
        "class abc:\n",
        "    def __init__(self,n): #Parameterized constructor\n",
        "        print(\"Hello \",n)\n",
        "    def __del__(self):\n",
        "        print(\"Object deleted\")\n",
        "\n",
        "s1=abc(\"Darshan\")\n",
        "s2=abc(\"Python\")"
      ],
      "execution_count": 41,
      "outputs": [
        {
          "output_type": "stream",
          "text": [
            "Hello  Darshan\n",
            "Hello  Python\n"
          ],
          "name": "stdout"
        }
      ]
    },
    {
      "cell_type": "code",
      "metadata": {
        "id": "gQob0GOAvfbB",
        "colab_type": "code",
        "colab": {
          "base_uri": "https://localhost:8080/",
          "height": 234
        },
        "outputId": "c02aa041-d515-45f1-a334-642ea455038f"
      },
      "source": [
        "# Program to use Data Encapsulation\n",
        "class st:\n",
        "    def __init__(self):\n",
        "        self.__show1()\n",
        "    def show(self):\n",
        "        print(\"Darshan Ingle\")\n",
        "    def __show1(self):\n",
        "        print(\"Hello \")\n",
        "        \n",
        "v=st()\n",
        "v.show()\n",
        "v.__show1() # not accessible from object v bcz of private method"
      ],
      "execution_count": 43,
      "outputs": [
        {
          "output_type": "stream",
          "text": [
            "Hello \n",
            "Darshan Ingle\n"
          ],
          "name": "stdout"
        },
        {
          "output_type": "error",
          "ename": "AttributeError",
          "evalue": "ignored",
          "traceback": [
            "\u001b[0;31m---------------------------------------------------------------------------\u001b[0m",
            "\u001b[0;31mAttributeError\u001b[0m                            Traceback (most recent call last)",
            "\u001b[0;32m<ipython-input-43-bc44973215a5>\u001b[0m in \u001b[0;36m<module>\u001b[0;34m()\u001b[0m\n\u001b[1;32m     10\u001b[0m \u001b[0mv\u001b[0m\u001b[0;34m=\u001b[0m\u001b[0mst\u001b[0m\u001b[0;34m(\u001b[0m\u001b[0;34m)\u001b[0m\u001b[0;34m\u001b[0m\u001b[0;34m\u001b[0m\u001b[0m\n\u001b[1;32m     11\u001b[0m \u001b[0mv\u001b[0m\u001b[0;34m.\u001b[0m\u001b[0mshow\u001b[0m\u001b[0;34m(\u001b[0m\u001b[0;34m)\u001b[0m\u001b[0;34m\u001b[0m\u001b[0;34m\u001b[0m\u001b[0m\n\u001b[0;32m---> 12\u001b[0;31m \u001b[0mv\u001b[0m\u001b[0;34m.\u001b[0m\u001b[0m__show1\u001b[0m\u001b[0;34m(\u001b[0m\u001b[0;34m)\u001b[0m \u001b[0;31m# not accessible from object v bcz of private method\u001b[0m\u001b[0;34m\u001b[0m\u001b[0;34m\u001b[0m\u001b[0m\n\u001b[0m",
            "\u001b[0;31mAttributeError\u001b[0m: 'st' object has no attribute '__show1'"
          ]
        }
      ]
    },
    {
      "cell_type": "code",
      "metadata": {
        "id": "bK1P5awIvpmN",
        "colab_type": "code",
        "colab": {
          "base_uri": "https://localhost:8080/",
          "height": 251
        },
        "outputId": "e3faed61-a86f-47b8-c996-15e5ffcc589d"
      },
      "source": [
        "\n",
        "# Program to use Data Hiding\n",
        "class abc:\n",
        "    __p=0\n",
        "    def show(self):\n",
        "        self.__p=self.__p+1\n",
        "        print(self.__p)\n",
        "\n",
        "v=abc()\n",
        "v.show()\n",
        "v.show()\n",
        "v.show()\n",
        "print(v.__p) # __p is hidden for outside class so error occurs"
      ],
      "execution_count": 44,
      "outputs": [
        {
          "output_type": "stream",
          "text": [
            "1\n",
            "2\n",
            "3\n"
          ],
          "name": "stdout"
        },
        {
          "output_type": "error",
          "ename": "AttributeError",
          "evalue": "ignored",
          "traceback": [
            "\u001b[0;31m---------------------------------------------------------------------------\u001b[0m",
            "\u001b[0;31mAttributeError\u001b[0m                            Traceback (most recent call last)",
            "\u001b[0;32m<ipython-input-44-82f2409e8334>\u001b[0m in \u001b[0;36m<module>\u001b[0;34m()\u001b[0m\n\u001b[1;32m     11\u001b[0m \u001b[0mv\u001b[0m\u001b[0;34m.\u001b[0m\u001b[0mshow\u001b[0m\u001b[0;34m(\u001b[0m\u001b[0;34m)\u001b[0m\u001b[0;34m\u001b[0m\u001b[0;34m\u001b[0m\u001b[0m\n\u001b[1;32m     12\u001b[0m \u001b[0mv\u001b[0m\u001b[0;34m.\u001b[0m\u001b[0mshow\u001b[0m\u001b[0;34m(\u001b[0m\u001b[0;34m)\u001b[0m\u001b[0;34m\u001b[0m\u001b[0;34m\u001b[0m\u001b[0m\n\u001b[0;32m---> 13\u001b[0;31m \u001b[0mprint\u001b[0m\u001b[0;34m(\u001b[0m\u001b[0mv\u001b[0m\u001b[0;34m.\u001b[0m\u001b[0m__p\u001b[0m\u001b[0;34m)\u001b[0m \u001b[0;31m# __p is hidden for outside class so error occurs\u001b[0m\u001b[0;34m\u001b[0m\u001b[0;34m\u001b[0m\u001b[0m\n\u001b[0m",
            "\u001b[0;31mAttributeError\u001b[0m: 'abc' object has no attribute '__p'"
          ]
        }
      ]
    },
    {
      "cell_type": "code",
      "metadata": {
        "id": "YzSF0JItvswq",
        "colab_type": "code",
        "colab": {
          "base_uri": "https://localhost:8080/",
          "height": 85
        },
        "outputId": "9239c55e-90a5-4724-993d-10f89c6249fd"
      },
      "source": [
        "# Program to use Polymorphism\n",
        "def show(s):\n",
        "    print(\"s= \",s)\n",
        "\n",
        "show(11)\n",
        "show(\"Darshan\")\n",
        "show(2.546)\n",
        "show(complex(2,4))"
      ],
      "execution_count": 45,
      "outputs": [
        {
          "output_type": "stream",
          "text": [
            "s=  11\n",
            "s=  Darshan\n",
            "s=  2.546\n",
            "s=  (2+4j)\n"
          ],
          "name": "stdout"
        }
      ]
    },
    {
      "cell_type": "markdown",
      "metadata": {
        "id": "RXBzGW3-ul2h",
        "colab_type": "text"
      },
      "source": [
        "1. Create GITHUB Profile with User id and password\n",
        "2. In the upper-right corner of any page, click , and then click New repository.\n",
        "3.In the Owner drop-down, select the account you wish to create the repository on.\n",
        "4.Type a name for your repository, and an optional description.\n",
        "5.Choose to make the repository either public or private. Public repositories are visible to the public, while private repositories are only accessible to you, and people you share them with. For more information, see \"Setting repository visibility.\"\n",
        "6. When you're finished, click Create repository\n",
        "\n",
        "# Mu github repository - https://github.com/hpsuresh12345/LetsUpgrade-AI-ML"
      ]
    }
  ]
}