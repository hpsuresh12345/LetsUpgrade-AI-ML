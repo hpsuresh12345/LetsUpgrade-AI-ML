{
  "nbformat": 4,
  "nbformat_minor": 0,
  "metadata": {
    "colab": {
      "name": "Day 5 ASSIGNMENT |4th September 2020_SURESHA_HP.ipynb",
      "provenance": [],
      "collapsed_sections": []
    },
    "kernelspec": {
      "name": "python3",
      "display_name": "Python 3"
    }
  },
  "cells": [
    {
      "cell_type": "markdown",
      "metadata": {
        "id": "-dNKE5OKoNOq",
        "colab_type": "text"
      },
      "source": [
        "# Question 1 : Write a Python program to find the first 20 non-even prime natural numbers."
      ]
    },
    {
      "cell_type": "code",
      "metadata": {
        "id": "uJLalCAAoDle",
        "colab_type": "code",
        "colab": {
          "base_uri": "https://localhost:8080/",
          "height": 390
        },
        "outputId": "5838d069-4d08-46bc-b333-3c6cfd9992cd"
      },
      "source": [
        "# Python program to display all the prime numbers within an interval\n",
        "\n",
        "lower = 200\n",
        "upper = 320\n",
        "\n",
        "print(\"Prime numbers between\", lower, \"and\", upper, \"are:\")\n",
        "\n",
        "for num in range(lower, upper + 1):\n",
        "   # all prime numbers are greater than 1\n",
        "   if num > 1:\n",
        "       for i in range(2, num):\n",
        "           if (num % i) == 0:\n",
        "               break\n",
        "       else:\n",
        "           print(num)\n"
      ],
      "execution_count": 2,
      "outputs": [
        {
          "output_type": "stream",
          "text": [
            "Prime numbers between 200 and 320 are:\n",
            "211\n",
            "223\n",
            "227\n",
            "229\n",
            "233\n",
            "239\n",
            "241\n",
            "251\n",
            "257\n",
            "263\n",
            "269\n",
            "271\n",
            "277\n",
            "281\n",
            "283\n",
            "293\n",
            "307\n",
            "311\n",
            "313\n",
            "317\n"
          ],
          "name": "stdout"
        }
      ]
    },
    {
      "cell_type": "markdown",
      "metadata": {
        "id": "tPnv3lQVonPh",
        "colab_type": "text"
      },
      "source": [
        "# Question 2 : Research on range() functions and its parameters. Create a markdown cell and write in your own words (no copy-paste from google please) what you understand about it. Implement a small program of your choice on the same.\n"
      ]
    },
    {
      "cell_type": "code",
      "metadata": {
        "id": "_JLYajTLogA1",
        "colab_type": "code",
        "colab": {
          "base_uri": "https://localhost:8080/",
          "height": 834
        },
        "outputId": "539ceb4e-67d9-446f-940b-59a1958b1493"
      },
      "source": [
        "# Python's program to determine string entered by user is a palindrome.\n",
        " \n",
        " \n",
        "def main():\n",
        "    print('\\n########################################################\\n')\n",
        " \n",
        "    user_string = \"Australia\"\n",
        "    if user_string.isalnum():\n",
        "        print(user_string, ': The String is alphanumeric.\\n')\n",
        " \n",
        "    user_string = \"1977\"\n",
        "    if user_string.isdigit():\n",
        "        print(user_string, ': The String contains only digits.\\n')\n",
        " \n",
        "    user_string = \"Srilanka\"\n",
        "    if user_string.isalpha():\n",
        "        print(user_string, ': String contains only alphabetic characters.\\n')\n",
        " \n",
        "    user_string = \"   \"\n",
        "    if user_string.isspace():\n",
        "        print(user_string, ': String contains only whitespace characters.\\n')\n",
        " \n",
        "    user_string = \"Korea\"\n",
        "    if user_string.isupper():\n",
        "        print(user_string, ': All letters in the string are uppercase.\\n')\n",
        " \n",
        "    user_string = \"Japan 1977\"\n",
        "    if user_string.islower():\n",
        "        print(user_string, ': All letters in the string are lowercase.\\n')\n",
        " \n",
        "    user_string = \"India 2020\"\n",
        "    toLower = user_string.lower()\n",
        "    print(user_string, ': Convert String in lowercase:', toLower, '\\n')\n",
        " \n",
        "    toUpper = user_string.upper()\n",
        "    print(user_string, ': Convert String in uppercase:', toUpper, '\\n')\n",
        " \n",
        "    # lstrip() Returns a copy of the string with all leading whitespace\n",
        "    # characters removed, that appear at the beginning of the string.\n",
        "    user_string = \"   India 2010\"\n",
        "    print('\\nLeft Strip:', user_string.lstrip())\n",
        " \n",
        "    # lstrip(char) Returns a copy of the string with all instances of\n",
        "    # char that appear at the beginning of the string removed.\n",
        "    user_string = \"America 1947\"\n",
        "    print('\\nLeft Strip with Character A:', user_string.lstrip('A'))\n",
        " \n",
        "    # rstrip() Returns a copy of the string with all leading whitespace\n",
        "    # characters removed, that appear at the end of the string.\n",
        "    user_string = \"America 2008     \"\n",
        "    print('\\nRight Strip:', user_string.rstrip('A'))\n",
        " \n",
        "    # rstrip(char) Returns a copy of the string with all instances of\n",
        "    # char that appear at the end of the string.\n",
        "    user_string = \"America\"\n",
        "    print('\\nRight Strip with Character a:', user_string.rstrip('a'))\n",
        " \n",
        "    # strip() returns a copy of the string with all leading\n",
        "    # and trailing whitespace characters removed.\n",
        "    user_string = \"   America 2020    \"\n",
        "    print('\\nStrip from both side :', user_string.strip())\n",
        " \n",
        "    # strip(char) Returns a copy of the string with all instances of\n",
        "    # char that appear at the beginning and the end of the string removed.\n",
        "    user_string = \"America Germany France Italy\"\n",
        "    print('\\nStrip with Character A:', user_string.strip('A'))\n",
        "    print('Strip with Character a:', user_string.strip('a'))\n",
        " \n",
        "    # endswith(substring) The substring argument is a string.\n",
        "    # The method returns true if the string ends with substring.\n",
        "    print('\\nendswith check whether a string ends with a specified substring')\n",
        "    user_string = \"Brazil\"\n",
        "    print(user_string.endswith('bra'))\n",
        "    print(user_string.endswith('zil'))\n",
        " \n",
        "    # startswith(substring) The substring argument is a string.\n",
        "    # The method returns true if the string starts with substring.\n",
        "    print('\\nstartswith check if a string starts with a specified substring')\n",
        "    user_string = \"ARGENTINA\"\n",
        "    print(user_string.startswith('Arge'))\n",
        "    print(user_string.startswith('ntina'))\n",
        " \n",
        "    # The substring argument is a string. The method returns the lowest\n",
        "    # index in the string where substring is found.\n",
        "    print('\\n################## Find Method ##################')\n",
        "    user_string = \"Columbia\"\n",
        "    print(user_string.find('lumbia'))\n",
        "    print(user_string.find('colbia'))\n",
        "    print(user_string.find('bia'))\n",
        "    print(user_string.find('col'))\n",
        "    print(user_string.find('Col'))\n",
        " \n",
        "    # replace(old, new) The old and new arguments are both strings. The method\n",
        "    # returns a copy of the string with all instances of old replaced by new.\n",
        "    print('\\n################## Replace Method ##################')\n",
        "    user_string = \"Hello Columbia\"\n",
        "    old = \"Columbia\"\n",
        "    new = \"Romania\"\n",
        "    print(user_string.replace(old, new))\n",
        " \n",
        "main()"
      ],
      "execution_count": 3,
      "outputs": [
        {
          "output_type": "stream",
          "text": [
            "\n",
            "########################################################\n",
            "\n",
            "Australia : The String is alphanumeric.\n",
            "\n",
            "1977 : The String contains only digits.\n",
            "\n",
            "Srilanka : String contains only alphabetic characters.\n",
            "\n",
            "    : String contains only whitespace characters.\n",
            "\n",
            "India 2020 : Convert String in lowercase: india 2020 \n",
            "\n",
            "India 2020 : Convert String in uppercase: INDIA 2020 \n",
            "\n",
            "\n",
            "Left Strip: India 2010\n",
            "\n",
            "Left Strip with Character A: merica 1947\n",
            "\n",
            "Right Strip: America 2008     \n",
            "\n",
            "Right Strip with Character a: Americ\n",
            "\n",
            "Strip from both side : America 2020\n",
            "\n",
            "Strip with Character A: merica Germany France Italy\n",
            "Strip with Character a: America Germany France Italy\n",
            "\n",
            "endswith check whether a string ends with a specified substring\n",
            "False\n",
            "True\n",
            "\n",
            "startswith check if a string starts with a specified substring\n",
            "False\n",
            "False\n",
            "\n",
            "################## Find Method ##################\n",
            "2\n",
            "-1\n",
            "5\n",
            "-1\n",
            "0\n",
            "\n",
            "################## Replace Method ##################\n",
            "Hello Romania\n"
          ],
          "name": "stdout"
        }
      ]
    },
    {
      "cell_type": "markdown",
      "metadata": {
        "id": "kzkChDk3powL",
        "colab_type": "text"
      },
      "source": [
        "# Question 3: Write a Python program to check if the given string is a Palindrome or Anagram or None of them. Display the message accordingly to the user"
      ]
    },
    {
      "cell_type": "code",
      "metadata": {
        "id": "56aVLb_QpDKQ",
        "colab_type": "code",
        "colab": {
          "base_uri": "https://localhost:8080/",
          "height": 34
        },
        "outputId": "cc47adc3-775d-4030-f844-d6a8b66a5ee1"
      },
      "source": [
        "# Python program to check\n",
        "# if a string is palindrome or not\n",
        " \n",
        "x = \"malayalam\"\n",
        "y = \"lammalaya\"\n",
        " \n",
        "w = \"\"\n",
        "for i in x:\n",
        "    w = i + w\n",
        " \n",
        "if (x == w):\n",
        "    print(x ,\" is - Yes Pallindrome\")\n",
        "else:\n",
        "    print(x ,\" is - Not a Pallindrome\")"
      ],
      "execution_count": 12,
      "outputs": [
        {
          "output_type": "stream",
          "text": [
            "malayalam  is - Yes Pallindrome\n"
          ],
          "name": "stdout"
        }
      ]
    },
    {
      "cell_type": "code",
      "metadata": {
        "id": "O37xRxJLZ_4z",
        "colab_type": "code",
        "colab": {
          "base_uri": "https://localhost:8080/",
          "height": 70
        },
        "outputId": "7eee93a5-1ec7-4410-f9bc-246bcfcec9f0"
      },
      "source": [
        "# if a string is Anangram or not\n",
        "\n",
        "from collections import Counter \n",
        "  \n",
        "s1=input(\"Enter first string:\")\n",
        "s2=input(\"Enter second string:\")\n",
        "if(sorted(s1)==sorted(s2)):\n",
        "      print(\"The strings are anagrams.\")\n",
        "else:\n",
        "      print(\"The strings aren't anagrams.\")   "
      ],
      "execution_count": 16,
      "outputs": [
        {
          "output_type": "stream",
          "text": [
            "Enter first string:Suresh\n",
            "Enter second string:Ramesh\n",
            "The strings aren't anagrams.\n"
          ],
          "name": "stdout"
        }
      ]
    },
    {
      "cell_type": "markdown",
      "metadata": {
        "id": "zoG_KlC3qKN6",
        "colab_type": "text"
      },
      "source": [
        "# Question 4:Question 4:Write a Python's user-defined function that removes all the additional characters from the string and convert it finally to lower case using built-in lower(). eg: If the string is \"Dr. Darshan Ingle @AIML Trainer\",then the output be \"drdarshaningleaimltrainer\"."
      ]
    },
    {
      "cell_type": "code",
      "metadata": {
        "id": "-2iBTF-yajb6",
        "colab_type": "code",
        "colab": {
          "base_uri": "https://localhost:8080/",
          "height": 34
        },
        "outputId": "35046ce9-09da-4fe1-ecad-2e9015433dd6"
      },
      "source": [
        "a_string = \"Dr. Darshan Ingle @AIML Trainer\"\n",
        "alphanumeric = [character for character in a_string if character.isalnum()]\n",
        "alphanumeric = \"\".join(alphanumeric)\n",
        "alphanumeric = alphanumeric.lower()\n",
        "print(alphanumeric)"
      ],
      "execution_count": 25,
      "outputs": [
        {
          "output_type": "stream",
          "text": [
            "drdarshaningleaimltrainer\n"
          ],
          "name": "stdout"
        }
      ]
    },
    {
      "cell_type": "markdown",
      "metadata": {
        "id": "RXBzGW3-ul2h",
        "colab_type": "text"
      },
      "source": [
        "1. Create GITHUB Profile with User id and password\n",
        "2. In the upper-right corner of any page, click , and then click New repository.\n",
        "3.In the Owner drop-down, select the account you wish to create the repository on.\n",
        "4.Type a name for your repository, and an optional description.\n",
        "5.Choose to make the repository either public or private. Public repositories are visible to the public, while private repositories are only accessible to you, and people you share them with. For more information, see \"Setting repository visibility.\"\n",
        "6. When you're finished, click Create repository\n",
        "\n",
        "# Mu github repository - https://github.com/hpsuresh12345/LetsUpgrade-AI-ML"
      ]
    }
  ]
}