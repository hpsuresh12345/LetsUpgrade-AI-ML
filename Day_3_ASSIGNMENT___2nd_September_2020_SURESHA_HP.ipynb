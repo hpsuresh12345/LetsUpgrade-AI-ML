{
  "nbformat": 4,
  "nbformat_minor": 0,
  "metadata": {
    "colab": {
      "name": "Day 3 ASSIGNMENT | 2nd September 2020_SURESHA_HP.ipynb",
      "provenance": [],
      "collapsed_sections": []
    },
    "kernelspec": {
      "name": "python3",
      "display_name": "Python 3"
    }
  },
  "cells": [
    {
      "cell_type": "markdown",
      "metadata": {
        "id": "-dNKE5OKoNOq",
        "colab_type": "text"
      },
      "source": [
        "# Question 1 : Write a program to subtract two complex numbers in Python."
      ]
    },
    {
      "cell_type": "code",
      "metadata": {
        "id": "uJLalCAAoDle",
        "colab_type": "code",
        "colab": {
          "base_uri": "https://localhost:8080/",
          "height": 34
        },
        "outputId": "73e0476b-4a2d-488b-85f8-96dd8db81dba"
      },
      "source": [
        "# function that returns \n",
        "# a complex number after \n",
        "# subracting \n",
        "def subComplex( z1, z2): \n",
        "    return z1-z2 \n",
        "  \n",
        "# driver program \n",
        "z1 = complex(7, 5) \n",
        "z2 = complex(2, 8) \n",
        "print( \"Subtraction is : \", subComplex(z1, z2)) "
      ],
      "execution_count": 1,
      "outputs": [
        {
          "output_type": "stream",
          "text": [
            "Subtraction is :  (5-3j)\n"
          ],
          "name": "stdout"
        }
      ]
    },
    {
      "cell_type": "markdown",
      "metadata": {
        "id": "tPnv3lQVonPh",
        "colab_type": "text"
      },
      "source": [
        "# Question 2 : Write a program to find the fourth root of a number."
      ]
    },
    {
      "cell_type": "code",
      "metadata": {
        "id": "_JLYajTLogA1",
        "colab_type": "code",
        "colab": {
          "base_uri": "https://localhost:8080/",
          "height": 34
        },
        "outputId": "145a05c1-316d-4108-eea2-be2473613a34"
      },
      "source": [
        "x = 64\n",
        "\n",
        "z = x ** (1.0 / 4)\n",
        "\n",
        "round(z,3)"
      ],
      "execution_count": 9,
      "outputs": [
        {
          "output_type": "execute_result",
          "data": {
            "text/plain": [
              "2.828"
            ]
          },
          "metadata": {
            "tags": []
          },
          "execution_count": 9
        }
      ]
    },
    {
      "cell_type": "markdown",
      "metadata": {
        "id": "kzkChDk3powL",
        "colab_type": "text"
      },
      "source": [
        "# Question 3: Write a program to swap two numbers in Python with the help of a temporary variable."
      ]
    },
    {
      "cell_type": "code",
      "metadata": {
        "id": "56aVLb_QpDKQ",
        "colab_type": "code",
        "colab": {
          "base_uri": "https://localhost:8080/",
          "height": 87
        },
        "outputId": "94bbf5d1-72bc-466a-c026-997d5aba0ff7"
      },
      "source": [
        "# To take inputs from the user\n",
        "x = input('Enter value of x: ')\n",
        "y = input('Enter value of y: ')\n",
        "\n",
        "# create a temporary variable and swap the values\n",
        "temp = x\n",
        "x = y\n",
        "y = temp\n",
        "\n",
        "print('The value of x after swapping: {}'.format(x))\n",
        "print('The value of y after swapping: {}'.format(y))"
      ],
      "execution_count": 11,
      "outputs": [
        {
          "output_type": "stream",
          "text": [
            "Enter value of x: 8\n",
            "Enter value of y: 9\n",
            "The value of x after swapping: 9\n",
            "The value of y after swapping: 8\n"
          ],
          "name": "stdout"
        }
      ]
    },
    {
      "cell_type": "markdown",
      "metadata": {
        "id": "zoG_KlC3qKN6",
        "colab_type": "text"
      },
      "source": [
        "# Question 4: Write a program to swap two numbers in Python without using a temporary variable."
      ]
    },
    {
      "cell_type": "code",
      "metadata": {
        "id": "okISdZTHp57U",
        "colab_type": "code",
        "colab": {
          "base_uri": "https://localhost:8080/",
          "height": 87
        },
        "outputId": "72bf1a4a-18a5-4d20-ae40-54fe2d175aab"
      },
      "source": [
        "# To take inputs from the user\n",
        "x = input('Enter value of x: ')\n",
        "y = input('Enter value of y: ')\n",
        "\n",
        "# code to swap 'x' and 'y' \n",
        "x, y = y, x \n",
        "\n",
        "\n",
        "print (\"After swapping: \") \n",
        "print(\"Value of x : \", x, \" and y : \", y) "
      ],
      "execution_count": 12,
      "outputs": [
        {
          "output_type": "stream",
          "text": [
            "Enter value of x: 6\n",
            "Enter value of y: 10\n",
            "After swapping: \n",
            "Value of x :  10  and y :  6\n"
          ],
          "name": "stdout"
        }
      ]
    },
    {
      "cell_type": "markdown",
      "metadata": {
        "id": "MV35q4bEqiNZ",
        "colab_type": "text"
      },
      "source": [
        "# Question 5: Write a program to convert Fahrenheit to kelvin and celsius both."
      ]
    },
    {
      "cell_type": "code",
      "metadata": {
        "id": "Ikizy9AaqZ3e",
        "colab_type": "code",
        "colab": {
          "base_uri": "https://localhost:8080/",
          "height": 70
        },
        "outputId": "21681b60-0211-46b6-9961-ef3cb1e5e000"
      },
      "source": [
        "# Celsius to Fahrenheit & Kelvin\n",
        "\n",
        "# Reading temperature in Celsius\n",
        "Fahrenheit = float(input('Enter temperature in Fahernheit: '))\n",
        "\n",
        "# Converting\n",
        "celsius = (Fahrenheit - 32) * 5/9\n",
        "kelvin = (5/9)*(Fahrenheit - 32) + 273\n",
        "\n",
        "# Displaying output\n",
        "print('%.2f Fahrenheit is: %0.2f Celsius' %(Fahrenheit, celsius))\n",
        "print('%0.3f Fahrenheit = %0.3f Kelvin.' % (Fahrenheit, kelvin))"
      ],
      "execution_count": 14,
      "outputs": [
        {
          "output_type": "stream",
          "text": [
            "Enter temperature in Fahernheit: 200\n",
            "200.00 Fahrenheit is: 93.33 Celsius\n",
            "200.000 Fahrenheit = 366.333 Kelvin.\n"
          ],
          "name": "stdout"
        }
      ]
    },
    {
      "cell_type": "markdown",
      "metadata": {
        "id": "_4lHbpF1sTZa",
        "colab_type": "text"
      },
      "source": [
        "# Question 6: Write a program to demonstrate all the available data types in Python. Hint: Use type() function."
      ]
    },
    {
      "cell_type": "code",
      "metadata": {
        "id": "XUZ-Kk8WsANu",
        "colab_type": "code",
        "colab": {
          "base_uri": "https://localhost:8080/",
          "height": 496
        },
        "outputId": "6b6e805e-f635-44a4-ebff-bf276436a743"
      },
      "source": [
        "a = 5\n",
        "print(\"Type of a: \", type(a)) \n",
        "  \n",
        "b = 5.0\n",
        "print(\"\\nType of b: \", type(b)) \n",
        "  \n",
        "c = 2 + 4j\n",
        "print(\"\\nType of c: \", type(c)) \n",
        "\n",
        "d = \"text\"\n",
        "print(\"\\nType of d: \", type(d)) \n",
        "\n",
        "e ={'Suresh'}\n",
        "print(\"\\nType of e: \", type(e)) \n",
        "\n",
        "f = ['Ramesh']\n",
        "print(\"\\nType of f: \", type(f))\n",
        "\n",
        "g = (\"Ramesh\",\"Suresh\")\n",
        "print(\"\\nType of f: \", type(g))\n",
        "\n",
        "h = {1:\"one\", 2:\"two\", 3:\"three\"}\n",
        "print(\"\\nType of h: \", type(h))\n",
        "\n",
        "x = range(6)\n",
        "print(\"\\nType of x: \", type(x))\n",
        "\n",
        "y = frozenset({\"apple\", \"banana\", \"cherry\"})\n",
        "print(\"\\nType of y: \", type(y))\n",
        "\n",
        "z = True\n",
        "print(\"\\nType of z: \", type(z))\n",
        "\n",
        "x1 = b\"Hello\"\n",
        "print(\"\\nType of x1: \", type(x1))\n",
        "\n",
        "x2 = bytearray(10)\n",
        "print(\"\\nType of x2: \", type(x2))\n",
        "\n",
        "x3 = memoryview(bytes(7))\n",
        "print(\"\\nType of x3: \", type(x3))"
      ],
      "execution_count": 29,
      "outputs": [
        {
          "output_type": "stream",
          "text": [
            "Type of a:  <class 'int'>\n",
            "\n",
            "Type of b:  <class 'float'>\n",
            "\n",
            "Type of c:  <class 'complex'>\n",
            "\n",
            "Type of d:  <class 'str'>\n",
            "\n",
            "Type of e:  <class 'set'>\n",
            "\n",
            "Type of f:  <class 'list'>\n",
            "\n",
            "Type of f:  <class 'tuple'>\n",
            "\n",
            "Type of h:  <class 'dict'>\n",
            "\n",
            "Type of x:  <class 'range'>\n",
            "\n",
            "Type of y:  <class 'frozenset'>\n",
            "\n",
            "Type of z:  <class 'bool'>\n",
            "\n",
            "Type of x1:  <class 'bytes'>\n",
            "\n",
            "Type of x2:  <class 'bytearray'>\n",
            "\n",
            "Type of x3:  <class 'memoryview'>\n"
          ],
          "name": "stdout"
        }
      ]
    },
    {
      "cell_type": "markdown",
      "metadata": {
        "id": "c8JNoqbkugsz",
        "colab_type": "text"
      },
      "source": [
        "# Question 7 Create a Markdown cell in Jupyter and list the steps discussed in the session by Dr. Darshan Ingle sir to create a Github profile and upload the Githubs Assignment link."
      ]
    },
    {
      "cell_type": "markdown",
      "metadata": {
        "id": "RXBzGW3-ul2h",
        "colab_type": "text"
      },
      "source": [
        "1. Create GITHUB Profile with User id and password\n",
        "2. In the upper-right corner of any page, click , and then click New repository.\n",
        "3.In the Owner drop-down, select the account you wish to create the repository on.\n",
        "4.Type a name for your repository, and an optional description.\n",
        "5.Choose to make the repository either public or private. Public repositories are visible to the public, while private repositories are only accessible to you, and people you share them with. For more information, see \"Setting repository visibility.\"\n",
        "6. When you're finished, click Create repository\n",
        "\n",
        "# Mu github repository - https://github.com/hpsuresh12345/LetsUpgrade-AI-ML"
      ]
    }
  ]
}