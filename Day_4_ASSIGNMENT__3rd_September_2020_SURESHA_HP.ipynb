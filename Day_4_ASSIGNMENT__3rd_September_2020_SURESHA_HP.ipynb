{
  "nbformat": 4,
  "nbformat_minor": 0,
  "metadata": {
    "colab": {
      "name": "Day 4 ASSIGNMENT |3rd September 2020_SURESHA_HP.ipynb",
      "provenance": [],
      "collapsed_sections": []
    },
    "kernelspec": {
      "name": "python3",
      "display_name": "Python 3"
    }
  },
  "cells": [
    {
      "cell_type": "markdown",
      "metadata": {
        "id": "-dNKE5OKoNOq",
        "colab_type": "text"
      },
      "source": [
        "# Question 1 : Research on whether addition, subtraction, multiplication, division, floor division, and modulo operations be performed on complex numbers. Based on your study, implement a Python program to demonstrate these operations.\n"
      ]
    },
    {
      "cell_type": "code",
      "metadata": {
        "id": "uJLalCAAoDle",
        "colab_type": "code",
        "colab": {
          "base_uri": "https://localhost:8080/",
          "height": 123
        },
        "outputId": "fb23b3a7-0f05-414a-ed4a-aa0345cfd557"
      },
      "source": [
        "a=(5+2j)\n",
        "b=(4-8j)\n",
        "print(\"Addition of two complex numbers : \",a+b)\n",
        "print(\"Subtraction of two complex numbers : \",a-b)\n",
        "print(\"Multiplication of two complex numbers : \",a*b)\n",
        "print(\"Division of two complex numbers : \",a/b)\n",
        "print(\"Floor Division of two numbers : \",(12//20))\n",
        "print(\"modulus of two numbers : \",(10%12))\n"
      ],
      "execution_count": 24,
      "outputs": [
        {
          "output_type": "stream",
          "text": [
            "Addition of two complex numbers :  (9-6j)\n",
            "Subtraction of two complex numbers :  (1+10j)\n",
            "Multiplication of two complex numbers :  (36-32j)\n",
            "Division of two complex numbers :  (0.05+0.6j)\n",
            "Floor Division of two numbers :  0\n",
            "modulus of two numbers :  10\n"
          ],
          "name": "stdout"
        }
      ]
    },
    {
      "cell_type": "markdown",
      "metadata": {
        "id": "tPnv3lQVonPh",
        "colab_type": "text"
      },
      "source": [
        "# Question 2 : Research on range() functions and its parameters. Create a markdown cell and write in your own words (no copy-paste from google please) what you understand about it. Implement a small program of your choice on the same.\n"
      ]
    },
    {
      "cell_type": "code",
      "metadata": {
        "id": "_JLYajTLogA1",
        "colab_type": "code",
        "colab": {
          "base_uri": "https://localhost:8080/",
          "height": 34
        },
        "outputId": "4fb7692a-9182-4027-8763-aca4e0444517"
      },
      "source": [
        "# Answer: The built-in function range() generates the integer numbers between the given start integer to the stop integer,\n",
        "#It returns a range object. we can iterate over a sequence of numbers produced by the range() function.\n",
        "\n",
        "for i in range(2, 20, 5):\n",
        "     print(i, end=\", \")\n",
        "for j in range(25, 0 , -5):\n",
        "     print(j , end=\", \")"
      ],
      "execution_count": 25,
      "outputs": [
        {
          "output_type": "stream",
          "text": [
            "2, 7, 12, 17, 25, 20, 15, 10, 5, "
          ],
          "name": "stdout"
        }
      ]
    },
    {
      "cell_type": "markdown",
      "metadata": {
        "id": "kzkChDk3powL",
        "colab_type": "text"
      },
      "source": [
        "# Question 3: Consider two numbers. Perform their subtraction and if the result of subtraction is greater than 25, print their multiplication result else print their division result."
      ]
    },
    {
      "cell_type": "code",
      "metadata": {
        "id": "56aVLb_QpDKQ",
        "colab_type": "code",
        "colab": {
          "base_uri": "https://localhost:8080/",
          "height": 34
        },
        "outputId": "f09310b5-0e7e-4b78-cea0-a742039c1be3"
      },
      "source": [
        "x=40\n",
        "y=25\n",
        "if ((x-y) > 25):\n",
        "  print(\"Multiplication of x*y: \", (x*y))\n",
        "else:\n",
        "\tprint(\"Division of x/y: \", (x/y))"
      ],
      "execution_count": 35,
      "outputs": [
        {
          "output_type": "stream",
          "text": [
            "Division of x/y:  1.6\n"
          ],
          "name": "stdout"
        }
      ]
    },
    {
      "cell_type": "markdown",
      "metadata": {
        "id": "zoG_KlC3qKN6",
        "colab_type": "text"
      },
      "source": [
        "# Question 4:Consider a list of 10 elements of integer values. If the number in the list is divisible by 2, print the result as \"square of that number minus 2"
      ]
    },
    {
      "cell_type": "code",
      "metadata": {
        "id": "okISdZTHp57U",
        "colab_type": "code",
        "colab": {
          "base_uri": "https://localhost:8080/",
          "height": 158
        },
        "outputId": "fb31d10f-588f-4224-a099-4ac5315db6b5"
      },
      "source": [
        "# declare a list of integers\n",
        "list = [10, 12, 15, 18, 25, 38, 42, 17, 20, 25, 30]\n",
        "\n",
        "# declare and assign M \n",
        "M = 2\n",
        "\n",
        "# print the list\n",
        "print (\"List is: \", list)\n",
        "\n",
        "# Traverse each element and check \n",
        "# whether it is divisible by M\n",
        "# or not, if condition is true print \n",
        "# the element\n",
        "\n",
        "\n",
        "\n",
        "for num in list:\n",
        "\tif( num%M==0 ) :\n",
        "\t\tprint (\"num divisible by 2 is: \", num)"
      ],
      "execution_count": 42,
      "outputs": [
        {
          "output_type": "stream",
          "text": [
            "List is:  [10, 12, 15, 18, 25, 38, 42, 17, 20, 25, 30]\n",
            "num divisible by 2 is:  10\n",
            "num divisible by 2 is:  12\n",
            "num divisible by 2 is:  18\n",
            "num divisible by 2 is:  38\n",
            "num divisible by 2 is:  42\n",
            "num divisible by 2 is:  20\n",
            "num divisible by 2 is:  30\n"
          ],
          "name": "stdout"
        }
      ]
    },
    {
      "cell_type": "markdown",
      "metadata": {
        "id": "MV35q4bEqiNZ",
        "colab_type": "text"
      },
      "source": [
        "# Question 5: Consider a list of 10 elements. Print all the elements in the list which are greater than 7 when that number is divided 2."
      ]
    },
    {
      "cell_type": "code",
      "metadata": {
        "id": "Ikizy9AaqZ3e",
        "colab_type": "code",
        "colab": {
          "base_uri": "https://localhost:8080/",
          "height": 52
        },
        "outputId": "b96531e0-39db-4db6-dc26-8ece4475114e"
      },
      "source": [
        "from bisect import bisect \n",
        "# initializing list \n",
        "test_list = [10, 12, 15, 18, 25, 38, 42, 17, 20, 25, 30] \n",
        "  \n",
        "# initializing k \n",
        "k = 7\n",
        "  \n",
        "# printing list  \n",
        "print (\"The list > 7: \" + str(test_list)) \n",
        "\n",
        "# using bisect() + sort() \n",
        "# to get numbers > k \n",
        "test_list.sort() \n",
        "count = len(test_list) - bisect(test_list, k) \n",
        "\n",
        "for num in test_list:\n",
        "\tif( num%k==0 ) :\n",
        "\t\tprint (\"num divisible by 2 is: \", num)"
      ],
      "execution_count": 47,
      "outputs": [
        {
          "output_type": "stream",
          "text": [
            "The list > 7: [10, 12, 15, 18, 25, 38, 42, 17, 20, 25, 30]\n",
            "num divisible by 2 is:  42\n"
          ],
          "name": "stdout"
        }
      ]
    },
    {
      "cell_type": "markdown",
      "metadata": {
        "id": "RXBzGW3-ul2h",
        "colab_type": "text"
      },
      "source": [
        "1. Create GITHUB Profile with User id and password\n",
        "2. In the upper-right corner of any page, click , and then click New repository.\n",
        "3.In the Owner drop-down, select the account you wish to create the repository on.\n",
        "4.Type a name for your repository, and an optional description.\n",
        "5.Choose to make the repository either public or private. Public repositories are visible to the public, while private repositories are only accessible to you, and people you share them with. For more information, see \"Setting repository visibility.\"\n",
        "6. When you're finished, click Create repository\n",
        "\n",
        "# Mu github repository - https://github.com/hpsuresh12345/LetsUpgrade-AI-ML"
      ]
    }
  ]
}